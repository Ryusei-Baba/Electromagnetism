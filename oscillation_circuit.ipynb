{
  "nbformat": 4,
  "nbformat_minor": 0,
  "metadata": {
    "colab": {
      "provenance": [],
      "authorship_tag": "ABX9TyOOrgUlsAGhY1wivBvRKMNH",
      "include_colab_link": true
    },
    "kernelspec": {
      "name": "python3",
      "display_name": "Python 3"
    },
    "language_info": {
      "name": "python"
    }
  },
  "cells": [
    {
      "cell_type": "markdown",
      "metadata": {
        "id": "view-in-github",
        "colab_type": "text"
      },
      "source": [
        "<a href=\"https://colab.research.google.com/github/Ryusei-Baba/Electromagnetism/blob/main/oscillation_circuit.ipynb\" target=\"_parent\"><img src=\"https://colab.research.google.com/assets/colab-badge.svg\" alt=\"Open In Colab\"/></a>"
      ]
    },
    {
      "cell_type": "code",
      "execution_count": null,
      "metadata": {
        "colab": {
          "base_uri": "https://localhost:8080/",
          "height": 295
        },
        "id": "mEyaiCfRVlgM",
        "outputId": "f9a230e3-df6e-45f2-b20d-65c9be266914"
      },
      "outputs": [
        {
          "output_type": "display_data",
          "data": {
            "text/plain": [
              "<Figure size 432x288 with 1 Axes>"
            ],
            "image/png": "[encoded data removed]"
          },
          "metadata": {
            "needs_background": "light"
          }
        }
      ],
      "source": [
        "import matplotlib.pyplot as plt\n",
        "plt.figure(0)\n",
        "\n",
        "#初期条件(適当)\n",
        "w = 1 #2\n",
        "I = 1 #0\n",
        "dt = 0.05 #0.05\n",
        "Idot = 1  #2\n",
        "t = 0\n",
        "\n",
        "#---離散化による計算---\n",
        "for i in range(3000):\n",
        "  I2dot = -w**2 * I -0.1 * Idot\n",
        "  Idot = Idot + I2dot * dt\n",
        "  I = I + Idot * dt\n",
        "  t = t +dt\n",
        "  plt.scatter(t, I, c=\"green\")\n",
        "\n",
        "# plt.legend() #凡例\n",
        "plt.title('simple harmonic oscillation') #タイトル\n",
        "plt.xlabel('t') #X軸ラベル\n",
        "plt.ylabel('f(t)') #Y軸ラベル\n",
        "plt.show()"
      ]
    },
    {
      "cell_type": "code",
      "source": [],
      "metadata": {
        "id": "z7g0O0bWXPYp"
      },
      "execution_count": null,
      "outputs": []
    }
  ]
}