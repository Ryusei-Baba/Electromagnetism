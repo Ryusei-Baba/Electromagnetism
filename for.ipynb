{
  "nbformat": 4,
  "nbformat_minor": 0,
  "metadata": {
    "colab": {
      "provenance": [],
      "authorship_tag": "ABX9TyOZXW3WHxZ7eCoujSOyDaqm",
      "include_colab_link": true
    },
    "kernelspec": {
      "name": "python3",
      "display_name": "Python 3"
    },
    "language_info": {
      "name": "python"
    }
  },
  "cells": [
    {
      "cell_type": "markdown",
      "metadata": {
        "id": "view-in-github",
        "colab_type": "text"
      },
      "source": [
        "<a href=\"https://colab.research.google.com/github/Ryusei-Baba/Electromagnetism/blob/main/for.ipynb\" target=\"_parent\"><img src=\"https://colab.research.google.com/assets/colab-badge.svg\" alt=\"Open In Colab\"/></a>"
      ]
    },
    {
      "cell_type": "markdown",
      "source": [
        "繰り返し構文（for文）を使ってみよう"
      ],
      "metadata": {
        "id": "xj_bjCDVLKlZ"
      }
    },
    {
      "cell_type": "code",
      "execution_count": null,
      "metadata": {
        "colab": {
          "base_uri": "https://localhost:8080/"
        },
        "id": "ev5qRcRtH_BM",
        "outputId": "283ca716-ba76-4275-baf2-37e888fbe6c6"
      },
      "outputs": [
        {
          "output_type": "stream",
          "name": "stdout",
          "text": [
            "途中結果\n",
            "2\n",
            "12\n",
            "4\n",
            "16\n",
            "8\n",
            "24\n",
            "16\n",
            "40\n",
            "32\n",
            "72\n",
            "\n",
            "最終結果\n",
            "x = 32\n",
            "y = 72\n"
          ]
        }
      ],
      "source": [
        "# 初期条件（初項）\n",
        "x = 1\n",
        "dx = 2\n",
        "y = 10\n",
        "\n",
        "#繰り返し演算\n",
        "print(\"途中結果\")\n",
        "for i in range(5):  # i = 0, 1, 2, 3, 4\n",
        "  #x = x * dx\n",
        "  x *= dx\n",
        "  y += x\n",
        "  print(x)\n",
        "  print(y)\n",
        "\n",
        "print()\n",
        "print(\"最終結果\")\n",
        "print('x =', x)\n",
        "print('y =', y)"
      ]
    }
  ]
}