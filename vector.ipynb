{
  "nbformat": 4,
  "nbformat_minor": 0,
  "metadata": {
    "colab": {
      "provenance": [],
      "authorship_tag": "ABX9TyMxkKxJqeh/793Uwcb+hSfa",
      "include_colab_link": true
    },
    "kernelspec": {
      "name": "python3",
      "display_name": "Python 3"
    },
    "language_info": {
      "name": "python"
    }
  },
  "cells": [
    {
      "cell_type": "markdown",
      "metadata": {
        "id": "view-in-github",
        "colab_type": "text"
      },
      "source": [
        "<a href=\"https://colab.research.google.com/github/Ryusei-Baba/Electromagnetism/blob/main/vector.ipynb\" target=\"_parent\"><img src=\"https://colab.research.google.com/assets/colab-badge.svg\" alt=\"Open In Colab\"/></a>"
      ]
    },
    {
      "cell_type": "markdown",
      "source": [
        "ベクトルの演算"
      ],
      "metadata": {
        "id": "mkg6hxVh2cZD"
      }
    },
    {
      "cell_type": "code",
      "execution_count": null,
      "metadata": {
        "colab": {
          "base_uri": "https://localhost:8080/"
        },
        "id": "-Q-YOfrQ2a6c",
        "outputId": "45562b45-7dc9-4c63-9a08-3186b6c467e9"
      },
      "outputs": [
        {
          "output_type": "stream",
          "name": "stdout",
          "text": [
            "3\n"
          ]
        }
      ],
      "source": [
        "# 数値計算に関するライブラリを呼ぶ\n",
        "import numpy as np #npは自分で決める省略文字\n",
        "\n",
        "#ベクトルの定義\n",
        "a = [1,2,3]\n",
        "b = [1,1,0]\n",
        "\n",
        "# 内積\n",
        "c = np.dot(a,b)\n",
        "print(c)"
      ]
    },
    {
      "cell_type": "code",
      "source": [
        "# 外積\n",
        "d = np.cross(a,b)\n",
        "print(d)"
      ],
      "metadata": {
        "colab": {
          "base_uri": "https://localhost:8080/"
        },
        "id": "Pwv7gNxs3xZ4",
        "outputId": "566f7acc-25fc-49e7-f8c8-57560de161a8"
      },
      "execution_count": null,
      "outputs": [
        {
          "output_type": "stream",
          "name": "stdout",
          "text": [
            "[-3  3 -1]\n"
          ]
        }
      ]
    },
    {
      "cell_type": "code",
      "source": [
        "# 足し算，引き算はnp.array()が必要.（配列）\n",
        "a = np.array([1,2,3])\n",
        "b = np.array([4,5,6])\n",
        "\n",
        "# 差\n",
        "e = a-b\n",
        "print(\"e =\",e)\n",
        "\n",
        "#和\n",
        "f = 2*a+b\n",
        "print(\"f =\",f)"
      ],
      "metadata": {
        "colab": {
          "base_uri": "https://localhost:8080/"
        },
        "id": "OthvEkRW4WaU",
        "outputId": "7d9ee63e-65ee-4df2-ee61-dcf4e739d02c"
      },
      "execution_count": null,
      "outputs": [
        {
          "output_type": "stream",
          "name": "stdout",
          "text": [
            "e = [-3 -3 -3]\n",
            "f = [ 6  9 12]\n"
          ]
        }
      ]
    }
  ]
}