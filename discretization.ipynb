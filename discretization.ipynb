{
  "nbformat": 4,
  "nbformat_minor": 0,
  "metadata": {
    "colab": {
      "provenance": [],
      "authorship_tag": "ABX9TyNwA48Vl4FP1uAiqAWq3vTs",
      "include_colab_link": true
    },
    "kernelspec": {
      "name": "python3",
      "display_name": "Python 3"
    },
    "language_info": {
      "name": "python"
    }
  },
  "cells": [
    {
      "cell_type": "markdown",
      "metadata": {
        "id": "view-in-github",
        "colab_type": "text"
      },
      "source": [
        "<a href=\"https://colab.research.google.com/github/Ryusei-Baba/Electromagnetism/blob/main/discretization.ipynb\" target=\"_parent\"><img src=\"https://colab.research.google.com/assets/colab-badge.svg\" alt=\"Open In Colab\"/></a>"
      ]
    },
    {
      "cell_type": "code",
      "execution_count": null,
      "metadata": {
        "colab": {
          "base_uri": "https://localhost:8080/"
        },
        "id": "ohlUVfaTHu4K",
        "outputId": "4dd35d54-674d-4b59-d549-c6bb71b32f9a"
      },
      "outputs": [
        {
          "output_type": "stream",
          "name": "stdout",
          "text": [
            "0 2\n",
            "0.2 2.2\n",
            "0.4 2.4000000000000004\n",
            "0.6000000000000001 2.6000000000000005\n",
            "0.8 2.8000000000000007\n",
            "1.0 3.000000000000001\n",
            "1.2 3.200000000000001\n",
            "1.4 3.4000000000000012\n",
            "1.5999999999999999 3.6000000000000014\n",
            "1.7999999999999998 3.8000000000000016\n"
          ]
        }
      ],
      "source": [
        "#初期速度\n",
        "v=1\n",
        "#時間刻み\n",
        "dt=0.2\n",
        "#初期位置\n",
        "x=2\n",
        "#x0=10\n",
        "#x=x0\n",
        "#初期時間\n",
        "t=0\n",
        "\n",
        "for i in range(10):\n",
        "  print(t, x)\n",
        "  dx = v * dt #v=dx/dt\n",
        "  x = x + dt\n",
        "  t = t + dt\n"
      ]
    },
    {
      "cell_type": "code",
      "source": [
        "#図を描く準備\n",
        "import numpy as np\n",
        "import matplotlib.pyplot as plt\n",
        "plt.figure(0)\n",
        "plt.xlabel('time')\n",
        "plt.ylabel('potential')\n",
        "plt.title('discretization')\n",
        "\n",
        "#初期速度\n",
        "v=1\n",
        "#時間刻み\n",
        "dt=0.2\n",
        "#初期位置\n",
        "x=2\n",
        "x0=x\n",
        "#初期時間\n",
        "t=0\n",
        "\n",
        "#配列を用意\n",
        "xp=[]\n",
        "tp=[]\n",
        "\n",
        "for i in range(10):\n",
        "  dx = v * dt #v=dx/dt\n",
        "  x = x + dt\n",
        "  t = t + dt\n",
        "  xp.append(x)  #append = 付加する\n",
        "  tp.append(t)  \n",
        "  #各時間でのデータ点\n",
        "  #plt.scatter(t, x, color='red', label=\"analytic solution\") #c='r'でも実行可能\n",
        "\n",
        "plt.scatter(tp, xp, color=\"green\", label=\"numerical solution\") #c='r'でも実行可能\n",
        "\n",
        "#解析解のグラフ\n",
        "time = np.linspace(0, 2, 100);\n",
        "plt.plot(time, x0+v*time, label=\"analytic solution\")\n",
        "\n",
        "plt.legend() #labelの表示\n",
        "plt.show()"
      ],
      "metadata": {
        "colab": {
          "base_uri": "https://localhost:8080/",
          "height": 295
        },
        "id": "1Sg9XS_0KTu5",
        "outputId": "17f08af7-d37f-488b-adfd-e78b199e2af9"
      },
      "execution_count": null,
      "outputs": [
        {
          "output_type": "display_data",
          "data": {
            "text/plain": [
              "<Figure size 432x288 with 1 Axes>"
            ],
            "image/png": "[encoded data removed]"
          },
          "metadata": {
            "needs_background": "light"
          }
        }
      ]
    }
  ]
}