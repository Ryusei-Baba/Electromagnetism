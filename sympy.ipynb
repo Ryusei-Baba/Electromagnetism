{
  "nbformat": 4,
  "nbformat_minor": 0,
  "metadata": {
    "colab": {
      "provenance": [],
      "authorship_tag": "ABX9TyOVQ0l0UTONCeB0YhsMah7U",
      "include_colab_link": true
    },
    "kernelspec": {
      "name": "python3",
      "display_name": "Python 3"
    },
    "language_info": {
      "name": "python"
    }
  },
  "cells": [
    {
      "cell_type": "markdown",
      "metadata": {
        "id": "view-in-github",
        "colab_type": "text"
      },
      "source": [
        "<a href=\"https://colab.research.google.com/github/Ryusei-Baba/Electromagnetism/blob/main/sympy.ipynb\" target=\"_parent\"><img src=\"https://colab.research.google.com/assets/colab-badge.svg\" alt=\"Open In Colab\"/></a>"
      ]
    },
    {
      "cell_type": "code",
      "execution_count": null,
      "metadata": {
        "colab": {
          "base_uri": "https://localhost:8080/",
          "height": 39
        },
        "id": "MQeynyILBMx2",
        "outputId": "4f68dc25-c1c4-4d88-caa7-8986c9827934"
      },
      "outputs": [
        {
          "output_type": "execute_result",
          "data": {
            "text/plain": [
              "x**7 + 7*x**6*y + 21*x**5*y**2 + 35*x**4*y**3 + 35*x**3*y**4 + 21*x**2*y**5 + 7*x*y**6 + y**7"
            ],
            "text/latex": "$\\displaystyle x^{7} + 7 x^{6} y + 21 x^{5} y^{2} + 35 x^{4} y^{3} + 35 x^{3} y^{4} + 21 x^{2} y^{5} + 7 x y^{6} + y^{7}$"
          },
          "metadata": {},
          "execution_count": 11
        }
      ],
      "source": [
        "# sympy(文字式用のライブラリ)を呼び込む．\n",
        "import sympy as sy\n",
        "\n",
        "# 文字式と宣言\n",
        "x = sy.symbols('x')\n",
        "y = sy.symbols('y')\n",
        "z = sy.symbols('z')\n",
        "\n",
        "# 関数の定義\n",
        "f = (x + y)**7\n",
        "r = (x**2 + y**2 + z**2)**0.5\n",
        "\n",
        "# 展開\n",
        "sy.expand(f)"
      ]
    },
    {
      "cell_type": "code",
      "source": [
        "sy.diff(1/r**2,x)"
      ],
      "metadata": {
        "colab": {
          "base_uri": "https://localhost:8080/",
          "height": 58
        },
        "id": "ai4itUaFEG56",
        "outputId": "8092ad47-5bf6-455f-899f-4e63d327fe2d"
      },
      "execution_count": null,
      "outputs": [
        {
          "output_type": "execute_result",
          "data": {
            "text/plain": [
              "-2.0*x*(x**2 + y**2 + z**2)**(-2.0)"
            ],
            "text/latex": "$\\displaystyle - \\frac{2.0 x}{\\left(x^{2} + y^{2} + z^{2}\\right)^{2.0}}$"
          },
          "metadata": {},
          "execution_count": 12
        }
      ]
    },
    {
      "cell_type": "code",
      "source": [
        "sy.integrate(f,x,y)"
      ],
      "metadata": {
        "colab": {
          "base_uri": "https://localhost:8080/",
          "height": 54
        },
        "id": "5jOtVwisCcg4",
        "outputId": "2a96dd6c-71a1-41a2-b888-aa9feb4665fd"
      },
      "execution_count": null,
      "outputs": [
        {
          "output_type": "execute_result",
          "data": {
            "text/plain": [
              "x**8*y/8 + x**7*y**2/2 + 7*x**6*y**3/6 + 7*x**5*y**4/4 + 7*x**4*y**5/4 + 7*x**3*y**6/6 + x**2*y**7/2 + x*y**8/8"
            ],
            "text/latex": "$\\displaystyle \\frac{x^{8} y}{8} + \\frac{x^{7} y^{2}}{2} + \\frac{7 x^{6} y^{3}}{6} + \\frac{7 x^{5} y^{4}}{4} + \\frac{7 x^{4} y^{5}}{4} + \\frac{7 x^{3} y^{6}}{6} + \\frac{x^{2} y^{7}}{2} + \\frac{x y^{8}}{8}$"
          },
          "metadata": {},
          "execution_count": 13
        }
      ]
    },
    {
      "cell_type": "code",
      "source": [
        "sy.simplify(sy.integrate(f,x,y))"
      ],
      "metadata": {
        "colab": {
          "base_uri": "https://localhost:8080/",
          "height": 56
        },
        "id": "FhRODG6ACr_d",
        "outputId": "91f9eecf-2c94-47e9-8d33-f34f501936ed"
      },
      "execution_count": null,
      "outputs": [
        {
          "output_type": "execute_result",
          "data": {
            "text/plain": [
              "x*y*(3*x**7 + 12*x**6*y + 28*x**5*y**2 + 42*x**4*y**3 + 42*x**3*y**4 + 28*x**2*y**5 + 12*x*y**6 + 3*y**7)/24"
            ],
            "text/latex": "$\\displaystyle \\frac{x y \\left(3 x^{7} + 12 x^{6} y + 28 x^{5} y^{2} + 42 x^{4} y^{3} + 42 x^{3} y^{4} + 28 x^{2} y^{5} + 12 x y^{6} + 3 y^{7}\\right)}{24}$"
          },
          "metadata": {},
          "execution_count": 14
        }
      ]
    },
    {
      "cell_type": "code",
      "source": [],
      "metadata": {
        "id": "6f7_jslwC5gF"
      },
      "execution_count": null,
      "outputs": []
    }
  ]
}